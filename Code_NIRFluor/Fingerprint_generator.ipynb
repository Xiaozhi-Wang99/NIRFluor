{
 "cells": [
  {
   "cell_type": "code",
   "execution_count": 1,
   "id": "17616de9-e1c3-4c81-aed1-70cbb503899d",
   "metadata": {},
   "outputs": [],
   "source": [
    "import csv\n",
    "import pandas as pd\n",
    "import numpy as np\n",
    "from rdkit import Chem, DataStructs\n",
    "from rdkit.Chem import Descriptors as desc\n",
    "from rdkit.Chem import AllChem, Crippen, Lipinski\n",
    "import warnings\n",
    "warnings.simplefilter(\"ignore\")\n",
    "\n",
    "from Data_preprocessing import smiles_standardize, remove_duplicates, csv_to_dict, solvent_matching\n",
    "from Data_preprocessing import ECFP_fingerprints, Property, generate_fingerprints\n",
    "from Data_preprocessing import data_processing"
   ]
  },
  {
   "cell_type": "code",
   "execution_count": 2,
   "id": "51db4911-0166-41fe-9272-dfefe6ef7747",
   "metadata": {},
   "outputs": [],
   "source": [
    "file_path = './dataset/data_pre/'\n",
    "input_file = file_path + 'DATA_pre_use_to_predict_142.csv'\n",
    "solvent_dict = csv_to_dict(file_path + 'Solvent_descriptors.csv')\n",
    "result_path = file_path +'Result_data_pre_include_fingerprints/'\n",
    "data_processing(input_file, solvent_dict, result_path)"
   ]
  }
 ],
 "metadata": {
  "kernelspec": {
   "display_name": "rdkit_py38",
   "language": "python",
   "name": "rdkit_py38"
  },
  "language_info": {
   "codemirror_mode": {
    "name": "ipython",
    "version": 3
   },
   "file_extension": ".py",
   "mimetype": "text/x-python",
   "name": "python",
   "nbconvert_exporter": "python",
   "pygments_lexer": "ipython3",
   "version": "3.8.18"
  }
 },
 "nbformat": 4,
 "nbformat_minor": 5
}
