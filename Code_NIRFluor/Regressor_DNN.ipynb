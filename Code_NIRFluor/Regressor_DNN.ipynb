{
 "cells": [
  {
   "cell_type": "code",
   "execution_count": 1,
   "id": "3101ee37-96bb-4df0-8912-4c412e72bf83",
   "metadata": {},
   "outputs": [],
   "source": [
    "import pandas as pd\n",
    "import numpy as np\n",
    "from sklearn.metrics import mean_squared_error\n",
    "\n",
    "import torch\n",
    "from torch import nn, optim\n",
    "from torch.utils.data import DataLoader, Dataset\n",
    "from torch.nn import MSELoss, Linear, ReLU, Dropout\n",
    "\n",
    "from joblib import dump, load\n",
    "from Environment import calculate_val_metrics, save_metrics_to_txt, set_seed, Initlize\n",
    "from Environment import MyDataset, MT_DNN, validation_MT_DNN\n",
    "DEVICE = \"cuda\" if torch.cuda.is_available() else \"cpu\""
   ]
  },
  {
   "cell_type": "code",
   "execution_count": 2,
   "id": "0a93c1b3-f599-4f29-8a95-91b103e8f85b",
   "metadata": {},
   "outputs": [
    {
     "name": "stdout",
     "output_type": "stream",
     "text": [
      "torch.Size([142, 2076])\n",
      "torch.Size([142, 6])\n"
     ]
    }
   ],
   "source": [
    "Metric_path = './utils/Regression_multi_task/'\n",
    "scaler_x = load(Metric_path + 'Regression_multitask_x_scaler.joblib')\n",
    "scaler_y = load(Metric_path + 'Regression_multitask_y_scaler.joblib')\n",
    "\n",
    "\n",
    "file_path = './dataset/data_pre/Result_data_pre_include_fingerprints/'\n",
    "x_pre = pd.read_csv(file_path + '07_Concatenated_data.csv')\n",
    "x_pre = x_pre.iloc[:,1:]\n",
    "x_pre = scaler_x.transform(x_pre)\n",
    "X_pre = torch.tensor(x_pre, dtype=torch.float32)\n",
    "\n",
    "y_pre = pd.read_csv('./dataset/data_pre/DATA_pre_use_to_predict_142.csv')\n",
    "y_pre = y_pre.iloc[:,4:10]\n",
    "y_pre = scaler_y.transform(y_pre)\n",
    "Y_pre = torch.tensor(y_pre, dtype=torch.float32)\n",
    "\n",
    "print(X_pre.shape)\n",
    "print(Y_pre.shape)\n",
    "\n",
    "pre_set = MyDataset(X_pre, Y_pre)\n",
    "pre_loader = DataLoader(pre_set, batch_size=32, shuffle=False)"
   ]
  },
  {
   "cell_type": "code",
   "execution_count": 3,
   "id": "d01ed21e-7ce3-4a28-a2d1-6f485d60a85e",
   "metadata": {},
   "outputs": [
    {
     "name": "stderr",
     "output_type": "stream",
     "text": [
      "F:\\_Fluorescence\\GitHub\\Code_NIRFluor\\Environment.py:33: UserWarning: To copy construct from a tensor, it is recommended to use sourceTensor.clone().detach() or sourceTensor.clone().detach().requires_grad_(True), rather than torch.tensor(sourceTensor).\n",
      "  x = torch.tensor(self.features[idx,:])\n"
     ]
    },
    {
     "name": "stdout",
     "output_type": "stream",
     "text": [
      "validation finished!\n",
      "validation_loss: 0.2249\n",
      "The test set of RMSE_0: 35.7422\n",
      "The test set of RMSE_1: 33.6222\n",
      "The test set of RMSE_2: 22.3825\n",
      "The test set of RMSE_3: 0.2406\n",
      "The test set of RMSE_4: 0.1798\n"
     ]
    }
   ],
   "source": [
    "set_seed(seed=42)\n",
    "model = MT_DNN().to(DEVICE)\n",
    "optimizer = optim.Adam(model.parameters(), lr=1e-3)\n",
    "loss_function = MSELoss()\n",
    "Initlize(model, init_type = 'kaiming_normal')\n",
    "model.load_state_dict(torch.load(Metric_path + 'Regression_MT_DNN_best_model.pt'))\n",
    "\n",
    "Y_pred_pre, Y_origin_pre, mask_pre, loss_pre = validation_MT_DNN(model, pre_loader, DEVICE)\n",
    "\n",
    "Y_origin_pre = scaler_y.inverse_transform(Y_origin_pre)\n",
    "Y_pred_pre = scaler_y.inverse_transform(Y_pred_pre)\n",
    "\n",
    "output_path = './Result/regressor/DNN/'\n",
    "np.savetxt(output_path + 'Y_pred_MT_DNN.csv', Y_pred_pre, delimiter=',')\n",
    "np.savetxt(output_path + 'Y_origin_pre.csv', Y_origin_pre, delimiter=',')\n",
    "\n",
    "pre_metrics = calculate_val_metrics(Y_pred_pre, Y_origin_pre, mask_pre)\n",
    "for key, value in pre_metrics.items():\n",
    "    print(f\"The test set of {key}: {value:.4f}\")\n",
    "\n",
    "save_metrics_to_txt(pre_metrics, output_path + 'pre_metrics_MT_DNN.txt')"
   ]
  }
 ],
 "metadata": {
  "kernelspec": {
   "display_name": "rdkit_py38",
   "language": "python",
   "name": "rdkit_py38"
  },
  "language_info": {
   "codemirror_mode": {
    "name": "ipython",
    "version": 3
   },
   "file_extension": ".py",
   "mimetype": "text/x-python",
   "name": "python",
   "nbconvert_exporter": "python",
   "pygments_lexer": "ipython3",
   "version": "3.8.18"
  }
 },
 "nbformat": 4,
 "nbformat_minor": 5
}
