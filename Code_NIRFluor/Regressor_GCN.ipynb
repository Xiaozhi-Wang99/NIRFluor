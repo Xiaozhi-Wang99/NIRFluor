{
 "cells": [
  {
   "cell_type": "code",
   "execution_count": 1,
   "id": "2ea6962f-48b9-44f0-b1b1-b768f4109e95",
   "metadata": {},
   "outputs": [],
   "source": [
    "import pandas as pd\n",
    "import numpy as np\n",
    "from sklearn.metrics import mean_squared_error\n",
    "\n",
    "import torch\n",
    "from torch import nn, optim, Tensor\n",
    "from torch.utils.data import Dataset, DataLoader\n",
    "from torch.nn import MSELoss, Linear, ReLU, Dropout\n",
    "import torch.nn.functional as F\n",
    "\n",
    "import torch_geometric\n",
    "from torch_geometric.data import Data\n",
    "from torch_geometric.loader import DataLoader\n",
    "from torch_geometric.nn import GCNConv\n",
    "import torch_geometric.transforms as T\n",
    "from torch_geometric.nn import global_add_pool as gsp, global_mean_pool as gmp, global_max_pool as gap\n",
    "\n",
    "from rdkit import Chem, DataStructs\n",
    "from rdkit.Chem import Descriptors as desc\n",
    "from rdkit.Chem import AllChem, Crippen, Lipinski, Draw\n",
    "\n",
    "from joblib import dump, load\n",
    "from Environment import one_hot_encoding_unk, featurization_parameters, atom_features, process_single_SMILES, SMILES_data_process\n",
    "from Environment import calculate_val_metrics, save_metrics_to_txt\n",
    "from Environment import MT_FinGCN, MT_GCN, MT_GCN_non_SF, validation_GCN\n",
    "DEVICE = \"cuda\" if torch.cuda.is_available() else \"cpu\""
   ]
  },
  {
   "cell_type": "code",
   "execution_count": 2,
   "id": "c67c7939-6b52-4a1d-9587-232aaf0734cd",
   "metadata": {},
   "outputs": [
    {
     "name": "stdout",
     "output_type": "stream",
     "text": [
      "(142, 2083)\n"
     ]
    }
   ],
   "source": [
    "Metric_path = './utils/Regression_multi_task/'\n",
    "scaler_x = load(Metric_path + 'Regression_multitask_x_scaler.joblib')\n",
    "scaler_y = load(Metric_path + 'Regression_multitask_y_scaler.joblib')\n",
    "\n",
    "\n",
    "file_path = './dataset/data_pre/Result_data_pre_include_fingerprints/'\n",
    "x_pre = pd.read_csv(file_path + '07_Concatenated_data.csv')\n",
    "X_pre = scaler_x.transform(x_pre.iloc[:,1:]) #11 solvent descriptors and 2065 fingerprints\n",
    "X_pre = pd.DataFrame(X_pre)\n",
    "\n",
    "y_pre = pd.read_csv('./dataset/data_pre/DATA_pre_use_to_predict_142.csv')\n",
    "Y_pre = scaler_y.transform(y_pre.iloc[:,4:10])   #6 real experimental values\n",
    "Y_pre = pd.DataFrame(Y_pre)\n",
    "\n",
    "combined_data_pre = pd.concat([x_pre.iloc[:,0], Y_pre, X_pre], axis=1)\n",
    "print(combined_data_pre.shape)\n",
    "\n",
    "feature_params = featurization_parameters()\n",
    "pre_processed_data = SMILES_data_process(combined_data_pre)\n",
    "pre_loader = DataLoader(pre_processed_data,batch_size=32,shuffle=False)"
   ]
  },
  {
   "cell_type": "code",
   "execution_count": 3,
   "id": "c03f235f-3331-419a-b2e3-197d9d4a5ddb",
   "metadata": {},
   "outputs": [
    {
     "name": "stdout",
     "output_type": "stream",
     "text": [
      "validation finished!\n",
      "validation_loss: 0.2108\n",
      "The test set of RMSE_0: 35.5583\n",
      "The test set of RMSE_1: 33.5476\n",
      "The test set of RMSE_2: 20.1375\n",
      "The test set of RMSE_3: 0.2155\n",
      "The test set of RMSE_4: 0.1812\n"
     ]
    }
   ],
   "source": [
    "#MT_FinGCN\n",
    "model = MT_FinGCN().to(DEVICE)\n",
    "optimizer = optim.Adam(model.parameters(), lr=1e-3)\n",
    "loss_function = MSELoss()\n",
    "model.load_state_dict(torch.load(Metric_path + 'Regression_MT_FinGCN_best_model.pt'))\n",
    "\n",
    "Y_pred_pre, Y_origin_pre, mask_pre, loss_pre = validation_GCN(model, pre_loader, DEVICE)\n",
    "\n",
    "Y_origin_pre = scaler_y.inverse_transform(Y_origin_pre)\n",
    "Y_pred_pre = scaler_y.inverse_transform(Y_pred_pre)\n",
    "\n",
    "output_path = './Result/regressor/GCN/'\n",
    "np.savetxt(output_path + 'Y_pred_MT_FinGCN.csv', Y_pred_pre, delimiter=',')\n",
    "np.savetxt(output_path + 'Y_origin_pre.csv', Y_origin_pre, delimiter=',')\n",
    "\n",
    "pre_metrics = calculate_val_metrics(Y_pred_pre, Y_origin_pre, mask_pre)\n",
    "for key, value in pre_metrics.items():\n",
    "    print(f\"The test set of {key}: {value:.4f}\")\n",
    "\n",
    "save_metrics_to_txt(pre_metrics, output_path + 'pre_metrics_MT_FinGCN.txt')"
   ]
  },
  {
   "cell_type": "code",
   "execution_count": 4,
   "id": "1f299a0f-e619-44fb-86bc-88430aafa1da",
   "metadata": {},
   "outputs": [
    {
     "name": "stdout",
     "output_type": "stream",
     "text": [
      "validation finished!\n",
      "validation_loss: 0.3092\n",
      "The test set of RMSE_0: 53.4722\n",
      "The test set of RMSE_1: 39.9070\n",
      "The test set of RMSE_2: 37.3870\n",
      "The test set of RMSE_3: 0.2543\n",
      "The test set of RMSE_4: 0.1636\n"
     ]
    }
   ],
   "source": [
    "#MT_GCN\n",
    "model = MT_GCN().to(DEVICE)\n",
    "optimizer = optim.Adam(model.parameters(), lr=1e-3)\n",
    "loss_function = MSELoss()\n",
    "model.load_state_dict(torch.load(Metric_path + 'Regression_MT_GCN_best_model.pt'))\n",
    "\n",
    "Y_pred_pre, Y_origin_pre, mask_pre, loss_pre = validation_GCN(model, pre_loader, DEVICE)\n",
    "\n",
    "Y_origin_pre = scaler_y.inverse_transform(Y_origin_pre)\n",
    "Y_pred_pre = scaler_y.inverse_transform(Y_pred_pre)\n",
    "\n",
    "output_path = './Result/regressor/GCN/'\n",
    "np.savetxt(output_path + 'Y_pred_MT_GCN.csv', Y_pred_pre, delimiter=',')\n",
    "\n",
    "pre_metrics = calculate_val_metrics(Y_pred_pre, Y_origin_pre, mask_pre)\n",
    "for key, value in pre_metrics.items():\n",
    "    print(f\"The test set of {key}: {value:.4f}\")\n",
    "\n",
    "save_metrics_to_txt(pre_metrics, output_path + 'pre_metrics_MT_GCN.txt')"
   ]
  },
  {
   "cell_type": "code",
   "execution_count": 5,
   "id": "50968ffa-7171-404e-88c2-8044629c0ab1",
   "metadata": {},
   "outputs": [
    {
     "name": "stdout",
     "output_type": "stream",
     "text": [
      "validation finished!\n",
      "validation_loss: 0.4114\n",
      "The test set of RMSE_0: 64.7614\n",
      "The test set of RMSE_1: 53.1163\n",
      "The test set of RMSE_2: 41.0917\n",
      "The test set of RMSE_3: 0.3196\n",
      "The test set of RMSE_4: 0.1533\n"
     ]
    }
   ],
   "source": [
    "#MT_GCN_non_SF\n",
    "model = MT_GCN_non_SF().to(DEVICE)\n",
    "optimizer = optim.Adam(model.parameters(), lr=1e-3)\n",
    "loss_function = MSELoss()\n",
    "model.load_state_dict(torch.load(Metric_path + 'Regression_MT_GCN_non_SF_best_model.pt'))\n",
    "\n",
    "Y_pred_pre, Y_origin_pre, mask_pre, loss_pre = validation_GCN(model, pre_loader, DEVICE)\n",
    "\n",
    "Y_origin_pre = scaler_y.inverse_transform(Y_origin_pre)\n",
    "Y_pred_pre = scaler_y.inverse_transform(Y_pred_pre)\n",
    "\n",
    "output_path = './Result/regressor/GCN/'\n",
    "np.savetxt(output_path + 'Y_pred_MT_GCN_non_SF.csv', Y_pred_pre, delimiter=',')\n",
    "\n",
    "pre_metrics = calculate_val_metrics(Y_pred_pre, Y_origin_pre, mask_pre)\n",
    "for key, value in pre_metrics.items():\n",
    "    print(f\"The test set of {key}: {value:.4f}\")\n",
    "\n",
    "save_metrics_to_txt(pre_metrics, output_path + 'pre_metrics_MT_GCN_non_SF.txt')"
   ]
  }
 ],
 "metadata": {
  "kernelspec": {
   "display_name": "rdkit_py38",
   "language": "python",
   "name": "rdkit_py38"
  },
  "language_info": {
   "codemirror_mode": {
    "name": "ipython",
    "version": 3
   },
   "file_extension": ".py",
   "mimetype": "text/x-python",
   "name": "python",
   "nbconvert_exporter": "python",
   "pygments_lexer": "ipython3",
   "version": "3.8.18"
  }
 },
 "nbformat": 4,
 "nbformat_minor": 5
}
