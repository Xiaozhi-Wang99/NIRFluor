{
 "cells": [
  {
   "cell_type": "code",
   "execution_count": 1,
   "id": "0ec764ef-5b16-4555-ba6a-7b83e12ddb85",
   "metadata": {},
   "outputs": [],
   "source": [
    "import numpy as np\n",
    "import pandas as pd\n",
    "import torch\n",
    "from sklearn.metrics import mean_squared_error\n",
    "from joblib import dump, load\n",
    "from Environment import calculate_val_metrics\n",
    "from Environment import save_metrics_to_txt"
   ]
  },
  {
   "cell_type": "code",
   "execution_count": 2,
   "id": "732a9d2e-f0fb-4fd8-a0ee-7ee0e863bbfe",
   "metadata": {},
   "outputs": [],
   "source": [
    "Metric_path = './utils/Regression_single_task/'\n",
    "scaler_abs_x = load(Metric_path + 'Regression_standard_abs_x_scaler.joblib')\n",
    "scaler_abs_y = load(Metric_path + 'Regression_standard_abs_y_scaler.joblib')\n",
    "\n",
    "scaler_emi_x = load(Metric_path + 'Regression_standard_emi_x_scaler.joblib')\n",
    "scaler_emi_y = load(Metric_path + 'Regression_standard_emi_y_scaler.joblib')\n",
    "\n",
    "scaler_stokes_x = load(Metric_path + 'Regression_standard_stokes_x_scaler.joblib')\n",
    "scaler_stokes_y = load(Metric_path + 'Regression_standard_stokes_y_scaler.joblib')\n",
    "\n",
    "scaler_coeff_x = load(Metric_path + 'Regression_standard_coeff_x_scaler.joblib')\n",
    "scaler_coeff_y = load(Metric_path + 'Regression_standard_coeff_y_scaler.joblib')\n",
    "\n",
    "scaler_yield_x = load(Metric_path + 'Regression_standard_yield_x_scaler.joblib')\n",
    "scaler_yield_y = load(Metric_path + 'Regression_standard_yield_y_scaler.joblib')\n",
    "\n",
    "scaler_time_x = load(Metric_path + 'Regression_standard_time_x_scaler.joblib')\n",
    "scaler_time_y = load(Metric_path + 'Regression_standard_time_y_scaler.joblib')"
   ]
  },
  {
   "cell_type": "code",
   "execution_count": 3,
   "id": "4918cbe7-9670-473b-b447-5a8053e50835",
   "metadata": {},
   "outputs": [],
   "source": [
    "model_RF_abs = load(Metric_path + 'Regression_RF_abs_model.joblib')\n",
    "model_RF_emi = load(Metric_path + 'Regression_RF_emi_model.joblib')\n",
    "model_RF_stokes = load(Metric_path + 'Regression_RF_stokes_model.joblib')\n",
    "model_RF_coeff = load(Metric_path + 'Regression_RF_coeff_model.joblib')\n",
    "model_RF_yield = load(Metric_path + 'Regression_RF_yield_model.joblib')\n",
    "model_RF_time = load(Metric_path + 'Regression_RF_time_model.joblib')\n",
    "\n",
    "model_XGB_abs = load(Metric_path + 'Regression_XGB_abs_model.joblib')\n",
    "model_XGB_emi = load(Metric_path + 'Regression_XGB_emi_model.joblib')\n",
    "model_XGB_stokes = load(Metric_path + 'Regression_XGB_stokes_model.joblib')\n",
    "model_XGB_coeff = load(Metric_path + 'Regression_XGB_coeff_model.joblib')\n",
    "model_XGB_yield = load(Metric_path + 'Regression_XGB_yield_model.joblib')\n",
    "model_XGB_time = load(Metric_path + 'Regression_XGB_time_model.joblib')\n",
    "\n",
    "model_SVR_abs = load(Metric_path + 'Regression_SVR_abs_model.joblib')\n",
    "model_SVR_emi = load(Metric_path + 'Regression_SVR_emi_model.joblib')\n",
    "model_SVR_stokes = load(Metric_path + 'Regression_SVR_stokes_model.joblib')\n",
    "model_SVR_coeff = load(Metric_path + 'Regression_SVR_coeff_model.joblib')\n",
    "model_SVR_yield = load(Metric_path + 'Regression_SVR_yield_model.joblib')\n",
    "model_SVR_time = load(Metric_path + 'Regression_SVR_time_model.joblib')\n",
    "\n",
    "model_PLS_abs = load(Metric_path + 'Regression_PLS_abs_model.joblib')\n",
    "model_PLS_emi = load(Metric_path + 'Regression_PLS_emi_model.joblib')\n",
    "model_PLS_stokes = load(Metric_path + 'Regression_PLS_stokes_model.joblib')\n",
    "model_PLS_coeff = load(Metric_path + 'Regression_PLS_coeff_model.joblib')\n",
    "model_PLS_yield = load(Metric_path + 'Regression_PLS_yield_model.joblib')\n",
    "model_PLS_time = load(Metric_path + 'Regression_PLS_time_model.joblib')"
   ]
  },
  {
   "cell_type": "code",
   "execution_count": 4,
   "id": "f0d1ed80-4b6c-40e9-8fae-25ed109b88e1",
   "metadata": {},
   "outputs": [],
   "source": [
    "file_path = './dataset/data_pre/Result_data_pre_include_fingerprints/'\n",
    "x_pre = pd.read_csv(file_path + '07_Concatenated_data.csv')\n",
    "x_pre = x_pre.iloc[:,1:]\n",
    "\n",
    "x_pre_abs = scaler_abs_x.transform(x_pre)\n",
    "x_pre_emi = scaler_emi_x.transform(x_pre)\n",
    "x_pre_stokes = scaler_stokes_x.transform(x_pre)\n",
    "x_pre_coeff = scaler_coeff_x.transform(x_pre)\n",
    "x_pre_yield = scaler_yield_x.transform(x_pre)\n",
    "x_pre_time = scaler_time_x.transform(x_pre)"
   ]
  },
  {
   "cell_type": "code",
   "execution_count": 5,
   "id": "0365c64f-0e0e-4094-a8f3-390d1e73a5d0",
   "metadata": {},
   "outputs": [],
   "source": [
    "#Regressor_RF\n",
    "y_abs_RF= model_RF_abs.predict(x_pre_abs)\n",
    "y_emi_RF= model_RF_emi.predict(x_pre_emi)\n",
    "y_stokes_RF= model_RF_stokes.predict(x_pre_stokes)\n",
    "y_coeff_RF= model_RF_coeff.predict(x_pre_coeff)\n",
    "y_yield_RF= model_RF_yield.predict(x_pre_yield)\n",
    "y_time_RF= model_RF_time.predict(x_pre_time)\n",
    "\n",
    "Y_abs_pred_RF = scaler_abs_y.inverse_transform(y_abs_RF.reshape(-1, 1))\n",
    "Y_emi_pred_RF = scaler_emi_y.inverse_transform(y_emi_RF.reshape(-1, 1))\n",
    "Y_stokes_pred_RF = scaler_stokes_y.inverse_transform(y_stokes_RF.reshape(-1, 1))\n",
    "Y_coeff_pred_RF = scaler_coeff_y.inverse_transform(y_coeff_RF.reshape(-1, 1))\n",
    "Y_yield_pred_RF = scaler_yield_y.inverse_transform(y_yield_RF.reshape(-1, 1))\n",
    "Y_time_pred_RF = scaler_time_y.inverse_transform(y_time_RF.reshape(-1, 1))\n",
    "\n",
    "predictions_RF = np.concatenate((Y_abs_pred_RF, Y_emi_pred_RF, Y_stokes_pred_RF, Y_coeff_pred_RF, Y_yield_pred_RF, Y_time_pred_RF), axis=1)"
   ]
  },
  {
   "cell_type": "code",
   "execution_count": 6,
   "id": "3fdcf06a-9df3-4795-876e-c97cb3e73176",
   "metadata": {},
   "outputs": [],
   "source": [
    "#Regressor_XGB\n",
    "y_abs_XGB= model_XGB_abs.predict(x_pre_abs)\n",
    "y_emi_XGB = model_XGB_emi.predict(x_pre_emi)\n",
    "y_stokes_XGB= model_XGB_stokes.predict(x_pre_stokes)\n",
    "y_coeff_XGB= model_XGB_coeff.predict(x_pre_coeff)\n",
    "y_yield_XGB= model_XGB_yield.predict(x_pre_yield)\n",
    "y_time_XGB= model_XGB_time.predict(x_pre_time)\n",
    "\n",
    "Y_abs_pred_XGB = scaler_abs_y.inverse_transform(y_abs_XGB.reshape(-1, 1))\n",
    "Y_emi_pred_XGB = scaler_emi_y.inverse_transform(y_emi_XGB.reshape(-1, 1))\n",
    "Y_stokes_pred_XGB = scaler_stokes_y.inverse_transform(y_stokes_XGB.reshape(-1, 1))\n",
    "Y_coeff_pred_XGB = scaler_coeff_y.inverse_transform(y_coeff_XGB.reshape(-1, 1))\n",
    "Y_yield_pred_XGB = scaler_yield_y.inverse_transform(y_yield_XGB.reshape(-1, 1))\n",
    "Y_time_pred_XGB = scaler_time_y.inverse_transform(y_time_XGB.reshape(-1, 1))\n",
    "\n",
    "predictions_XGB = np.concatenate((Y_abs_pred_XGB, Y_emi_pred_XGB, Y_stokes_pred_XGB, Y_coeff_pred_XGB, Y_yield_pred_XGB, Y_time_pred_XGB), axis=1)"
   ]
  },
  {
   "cell_type": "code",
   "execution_count": 7,
   "id": "ce594757-a833-4174-8fa5-89c37c4545bf",
   "metadata": {},
   "outputs": [],
   "source": [
    "#Regressor_SVR\n",
    "y_abs_SVR= model_SVR_abs.predict(x_pre_abs)\n",
    "y_emi_SVR = model_SVR_emi.predict(x_pre_emi)\n",
    "y_stokes_SVR= model_SVR_stokes.predict(x_pre_stokes)\n",
    "y_coeff_SVR= model_SVR_coeff.predict(x_pre_coeff)\n",
    "y_yield_SVR= model_SVR_yield.predict(x_pre_yield)\n",
    "y_time_SVR= model_SVR_time.predict(x_pre_time)\n",
    "\n",
    "Y_abs_pred_SVR = scaler_abs_y.inverse_transform(y_abs_SVR.reshape(-1, 1))\n",
    "Y_emi_pred_SVR = scaler_emi_y.inverse_transform(y_emi_SVR.reshape(-1, 1))\n",
    "Y_stokes_pred_SVR = scaler_stokes_y.inverse_transform(y_stokes_SVR.reshape(-1, 1))\n",
    "Y_coeff_pred_SVR = scaler_coeff_y.inverse_transform(y_coeff_SVR.reshape(-1, 1))\n",
    "Y_yield_pred_SVR = scaler_yield_y.inverse_transform(y_yield_SVR.reshape(-1, 1))\n",
    "Y_time_pred_SVR = scaler_time_y.inverse_transform(y_time_SVR.reshape(-1, 1))\n",
    "\n",
    "predictions_SVR = np.concatenate((Y_abs_pred_SVR, Y_emi_pred_SVR, Y_stokes_pred_SVR, Y_coeff_pred_SVR, Y_yield_pred_SVR, Y_time_pred_SVR), axis=1)"
   ]
  },
  {
   "cell_type": "code",
   "execution_count": 8,
   "id": "7c88e3f8-4b5d-4da8-b830-4a1c36e10997",
   "metadata": {},
   "outputs": [],
   "source": [
    "#Regressor_PLS\n",
    "y_abs_PLS= model_PLS_abs.predict(x_pre_abs)\n",
    "y_emi_PLS = model_PLS_emi.predict(x_pre_emi)\n",
    "y_stokes_PLS= model_PLS_stokes.predict(x_pre_stokes)\n",
    "y_coeff_PLS= model_PLS_coeff.predict(x_pre_coeff)\n",
    "y_yield_PLS= model_PLS_yield.predict(x_pre_yield)\n",
    "y_time_PLS= model_PLS_time.predict(x_pre_time)\n",
    "\n",
    "Y_abs_pred_PLS = scaler_abs_y.inverse_transform(y_abs_PLS.reshape(-1, 1))\n",
    "Y_emi_pred_PLS = scaler_emi_y.inverse_transform(y_emi_PLS.reshape(-1, 1))\n",
    "Y_stokes_pred_PLS = scaler_stokes_y.inverse_transform(y_stokes_PLS.reshape(-1, 1))\n",
    "Y_coeff_pred_PLS = scaler_coeff_y.inverse_transform(y_coeff_PLS.reshape(-1, 1))\n",
    "Y_yield_pred_PLS = scaler_yield_y.inverse_transform(y_yield_PLS.reshape(-1, 1))\n",
    "Y_time_pred_PLS = scaler_time_y.inverse_transform(y_time_PLS.reshape(-1, 1))\n",
    "\n",
    "predictions_PLS = np.concatenate((Y_abs_pred_PLS, Y_emi_pred_PLS, Y_stokes_pred_PLS, Y_coeff_pred_PLS, Y_yield_pred_PLS, Y_time_pred_PLS), axis=1)"
   ]
  },
  {
   "cell_type": "code",
   "execution_count": 9,
   "id": "17d72ee3-866c-44f3-b1b9-191bd8c12f5e",
   "metadata": {},
   "outputs": [],
   "source": [
    "output_path = './Result/regressor/RF_XGB_SVR_PLS/'\n",
    "\n",
    "np.savetxt(output_path + 'predictions_RF.csv', predictions_RF, delimiter=',')\n",
    "np.savetxt(output_path + 'predictions_XGB.csv', predictions_XGB, delimiter=',')\n",
    "np.savetxt(output_path + 'predictions_SVR.csv', predictions_SVR, delimiter=',')\n",
    "np.savetxt(output_path + 'predictions_PLS.csv', predictions_PLS, delimiter=',')"
   ]
  },
  {
   "cell_type": "code",
   "execution_count": 10,
   "id": "a4af2ffe-1c96-448f-a535-0f5961727cc0",
   "metadata": {},
   "outputs": [],
   "source": [
    "data_exp = pd.read_csv('./dataset/data_pre/DATA_pre_use_to_predict_142.csv')\n",
    "True_values = data_exp.iloc[:,4:10]#lifetime experimental data does not exist in the pre dataset\n",
    "True_values= np.array(True_values)\n",
    "True_values = torch.tensor(True_values, dtype=torch.float)\n",
    "mask_pre = ~torch.isnan(True_values)"
   ]
  },
  {
   "cell_type": "code",
   "execution_count": 11,
   "id": "439e1f45-34d2-42df-9630-e99a8a0600bc",
   "metadata": {},
   "outputs": [
    {
     "name": "stdout",
     "output_type": "stream",
     "text": [
      "The test set of RMSE_0: 37.1716\n",
      "The test set of RMSE_1: 36.4191\n",
      "The test set of RMSE_2: 18.3590\n",
      "The test set of RMSE_3: 0.2386\n",
      "The test set of RMSE_4: 0.1542\n"
     ]
    }
   ],
   "source": [
    "#Metrics of RF\n",
    "pre_metrics_RF = calculate_val_metrics(True_values, predictions_RF, mask_pre)\n",
    "for key, value in pre_metrics_RF.items():\n",
    "    print(f\"The test set of {key}: {value:.4f}\")"
   ]
  },
  {
   "cell_type": "code",
   "execution_count": 12,
   "id": "e26ee9a1-9de7-4516-9f8a-1abf7db24a70",
   "metadata": {},
   "outputs": [
    {
     "name": "stdout",
     "output_type": "stream",
     "text": [
      "The test set of RMSE_0: 39.8244\n",
      "The test set of RMSE_1: 36.2878\n",
      "The test set of RMSE_2: 18.4944\n",
      "The test set of RMSE_3: 0.2381\n",
      "The test set of RMSE_4: 0.1666\n"
     ]
    }
   ],
   "source": [
    "#Metrics of XGB\n",
    "pre_metrics_XGB = calculate_val_metrics(True_values, predictions_XGB, mask_pre)\n",
    "for key, value in pre_metrics_XGB.items():\n",
    "    print(f\"The test set of {key}: {value:.4f}\")"
   ]
  },
  {
   "cell_type": "code",
   "execution_count": 13,
   "id": "ed37f24c-9b09-408d-aef6-692a8c9367c3",
   "metadata": {},
   "outputs": [
    {
     "name": "stdout",
     "output_type": "stream",
     "text": [
      "The test set of RMSE_0: 45.3851\n",
      "The test set of RMSE_1: 36.3871\n",
      "The test set of RMSE_2: 34.0239\n",
      "The test set of RMSE_3: 0.2612\n",
      "The test set of RMSE_4: 0.1479\n"
     ]
    }
   ],
   "source": [
    "#Metrics of SVR\n",
    "pre_metrics_SVR = calculate_val_metrics(True_values, predictions_SVR, mask_pre)\n",
    "for key, value in pre_metrics_SVR.items():\n",
    "    print(f\"The test set of {key}: {value:.4f}\")"
   ]
  },
  {
   "cell_type": "code",
   "execution_count": 14,
   "id": "77fb606a-6fd9-4fdd-9855-673407d90fda",
   "metadata": {},
   "outputs": [
    {
     "name": "stdout",
     "output_type": "stream",
     "text": [
      "The test set of RMSE_0: 45.3455\n",
      "The test set of RMSE_1: 42.1042\n",
      "The test set of RMSE_2: 29.9966\n",
      "The test set of RMSE_3: 0.2558\n",
      "The test set of RMSE_4: 0.2311\n"
     ]
    }
   ],
   "source": [
    "#Metrics of PLS\n",
    "pre_metrics_PLS = calculate_val_metrics(True_values, predictions_PLS, mask_pre)\n",
    "for key, value in pre_metrics_PLS.items():\n",
    "    print(f\"The test set of {key}: {value:.4f}\")"
   ]
  },
  {
   "cell_type": "code",
   "execution_count": 15,
   "id": "3e709b6f-a6bb-4998-81d7-560c15a255b4",
   "metadata": {},
   "outputs": [],
   "source": [
    "save_metrics_to_txt(pre_metrics_RF, output_path + 'pre_metrics_RF.txt')\n",
    "save_metrics_to_txt(pre_metrics_XGB, output_path + 'pre_metrics_XGB.txt')\n",
    "save_metrics_to_txt(pre_metrics_SVR, output_path + 'pre_metrics_SVR.txt')\n",
    "save_metrics_to_txt(pre_metrics_PLS, output_path + 'pre_metrics_PLS.txt')"
   ]
  }
 ],
 "metadata": {
  "kernelspec": {
   "display_name": "rdkit_py38",
   "language": "python",
   "name": "rdkit_py38"
  },
  "language_info": {
   "codemirror_mode": {
    "name": "ipython",
    "version": 3
   },
   "file_extension": ".py",
   "mimetype": "text/x-python",
   "name": "python",
   "nbconvert_exporter": "python",
   "pygments_lexer": "ipython3",
   "version": "3.8.18"
  }
 },
 "nbformat": 4,
 "nbformat_minor": 5
}
